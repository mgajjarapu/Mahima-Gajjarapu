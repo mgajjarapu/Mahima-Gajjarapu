{
 "cells": [
  {
   "cell_type": "code",
   "execution_count": 10,
   "id": "3733ea14",
   "metadata": {},
   "outputs": [
    {
     "name": "stdout",
     "output_type": "stream",
     "text": [
      "Original List :[1, 2, 7, 0, 4, 0, 7, 2, 0, 2]\n",
      "List after Sorting :[0, 0, 0, 1, 2, 2, 2, 4, 7, 7]\n"
     ]
    }
   ],
   "source": [
    "import random\n",
    "l1=[]\n",
    "for i in range(0,10):\n",
    "   l1.append(random.randint(0, 10))\n",
    "print(\"Original List :\"+str(l1))\n",
    "l1.sort()\n",
    "print(\"List after Sorting :\"+str(l1))"
   ]
  },
  {
   "cell_type": "code",
   "execution_count": 9,
   "id": "b4c4ed9f",
   "metadata": {},
   "outputs": [
    {
     "data": {
      "text/html": [
       "<div>\n",
       "<style scoped>\n",
       "    .dataframe tbody tr th:only-of-type {\n",
       "        vertical-align: middle;\n",
       "    }\n",
       "\n",
       "    .dataframe tbody tr th {\n",
       "        vertical-align: top;\n",
       "    }\n",
       "\n",
       "    .dataframe thead th {\n",
       "        text-align: right;\n",
       "    }\n",
       "</style>\n",
       "<table border=\"1\" class=\"dataframe\">\n",
       "  <thead>\n",
       "    <tr style=\"text-align: right;\">\n",
       "      <th></th>\n",
       "      <th>Year</th>\n",
       "      <th>Population</th>\n",
       "    </tr>\n",
       "  </thead>\n",
       "  <tbody>\n",
       "    <tr>\n",
       "      <th>46</th>\n",
       "      <td>2006</td>\n",
       "      <td>6538196688</td>\n",
       "    </tr>\n",
       "    <tr>\n",
       "      <th>34</th>\n",
       "      <td>1994</td>\n",
       "      <td>5598658151</td>\n",
       "    </tr>\n",
       "    <tr>\n",
       "      <th>18</th>\n",
       "      <td>1978</td>\n",
       "      <td>4288485981</td>\n",
       "    </tr>\n",
       "    <tr>\n",
       "      <th>19</th>\n",
       "      <td>1979</td>\n",
       "      <td>4363754326</td>\n",
       "    </tr>\n",
       "    <tr>\n",
       "      <th>40</th>\n",
       "      <td>2000</td>\n",
       "      <td>6078274622</td>\n",
       "    </tr>\n",
       "    <tr>\n",
       "      <th>22</th>\n",
       "      <td>1982</td>\n",
       "      <td>4595890494</td>\n",
       "    </tr>\n",
       "    <tr>\n",
       "      <th>4</th>\n",
       "      <td>1964</td>\n",
       "      <td>3253112403</td>\n",
       "    </tr>\n",
       "    <tr>\n",
       "      <th>10</th>\n",
       "      <td>1970</td>\n",
       "      <td>3682870688</td>\n",
       "    </tr>\n",
       "    <tr>\n",
       "      <th>48</th>\n",
       "      <td>2008</td>\n",
       "      <td>6692030277</td>\n",
       "    </tr>\n",
       "    <tr>\n",
       "      <th>17</th>\n",
       "      <td>1977</td>\n",
       "      <td>4214499013</td>\n",
       "    </tr>\n",
       "    <tr>\n",
       "      <th>39</th>\n",
       "      <td>1999</td>\n",
       "      <td>6001269553</td>\n",
       "    </tr>\n",
       "    <tr>\n",
       "      <th>15</th>\n",
       "      <td>1975</td>\n",
       "      <td>4068032705</td>\n",
       "    </tr>\n",
       "    <tr>\n",
       "      <th>0</th>\n",
       "      <td>1960</td>\n",
       "      <td>3028654024</td>\n",
       "    </tr>\n",
       "    <tr>\n",
       "      <th>24</th>\n",
       "      <td>1984</td>\n",
       "      <td>4753877875</td>\n",
       "    </tr>\n",
       "    <tr>\n",
       "      <th>21</th>\n",
       "      <td>1981</td>\n",
       "      <td>4516734312</td>\n",
       "    </tr>\n",
       "  </tbody>\n",
       "</table>\n",
       "</div>"
      ],
      "text/plain": [
       "    Year  Population\n",
       "46  2006  6538196688\n",
       "34  1994  5598658151\n",
       "18  1978  4288485981\n",
       "19  1979  4363754326\n",
       "40  2000  6078274622\n",
       "22  1982  4595890494\n",
       "4   1964  3253112403\n",
       "10  1970  3682870688\n",
       "48  2008  6692030277\n",
       "17  1977  4214499013\n",
       "39  1999  6001269553\n",
       "15  1975  4068032705\n",
       "0   1960  3028654024\n",
       "24  1984  4753877875\n",
       "21  1981  4516734312"
      ]
     },
     "execution_count": 9,
     "metadata": {},
     "output_type": "execute_result"
    }
   ],
   "source": [
    "import pandas as pd\n",
    "\n",
    "df = pd.read_excel('world-population.xlsm', sheet_name='world-population')\n",
    "\n",
    "df.sample(15)"
   ]
  },
  {
   "cell_type": "code",
   "execution_count": 3,
   "id": "1cf7333e",
   "metadata": {},
   "outputs": [
    {
     "data": {
      "image/png": "[encoded data removed]",
      "text/plain": [
       "<Figure size 640x480 with 1 Axes>"
      ]
     },
     "metadata": {},
     "output_type": "display_data"
    }
   ],
   "source": [
    "import matplotlib.pyplot as plt\n",
    "plt.plot(df.Year,df.Population)\n",
    "plt.show()\n",
    "     "
   ]
  },
  {
   "cell_type": "code",
   "execution_count": 6,
   "id": "7641d305",
   "metadata": {},
   "outputs": [
    {
     "data": {
      "text/plain": [
       "[7,\n",
       " 61,\n",
       " 45,\n",
       " 65,\n",
       " 36,\n",
       " 95,\n",
       " 30,\n",
       " 79,\n",
       " 21,\n",
       " 7,\n",
       " 36,\n",
       " 48,\n",
       " 100,\n",
       " 52,\n",
       " 90,\n",
       " 50,\n",
       " 36,\n",
       " 7,\n",
       " 34,\n",
       " 54,\n",
       " 92,\n",
       " 89,\n",
       " 53,\n",
       " 25,\n",
       " 57,\n",
       " 74,\n",
       " 76,\n",
       " 74,\n",
       " 33,\n",
       " 46,\n",
       " 95,\n",
       " 0,\n",
       " 89,\n",
       " 67,\n",
       " 96,\n",
       " 33,\n",
       " 78,\n",
       " 90,\n",
       " 12,\n",
       " 44,\n",
       " 65,\n",
       " 40,\n",
       " 34,\n",
       " 1,\n",
       " 46,\n",
       " 48,\n",
       " 67,\n",
       " 69,\n",
       " 16,\n",
       " 13]"
      ]
     },
     "execution_count": 6,
     "metadata": {},
     "output_type": "execute_result"
    }
   ],
   "source": [
    " import random\n",
    "\n",
    "random_num_list = [random.randint(0,100) for x in range(0,50)]\n",
    "random_num_list\n",
    "     "
   ]
  },
  {
   "cell_type": "code",
   "execution_count": 7,
   "id": "3d5a65b4",
   "metadata": {},
   "outputs": [
    {
     "data": {
      "text/plain": [
       "[45, 36, 30, 21, 36, 48, 90, 36, 54, 57, 33, 0, 96, 33, 78, 90, 12, 48, 69]"
      ]
     },
     "execution_count": 7,
     "metadata": {},
     "output_type": "execute_result"
    }
   ],
   "source": [
    "div_by_3_list = [i for i in random_num_list if i%3==0]\n",
    "div_by_3_list\n",
    "     "
   ]
  },
  {
   "cell_type": "code",
   "execution_count": 8,
   "id": "0a3e9ca5",
   "metadata": {},
   "outputs": [
    {
     "data": {
      "text/plain": [
       "31"
      ]
     },
     "execution_count": 8,
     "metadata": {},
     "output_type": "execute_result"
    }
   ],
   "source": [
    "diff_in_length = len(random_num_list) - len(div_by_3_list)\n",
    "diff_in_length"
   ]
  },
  {
   "cell_type": "code",
   "execution_count": 12,
   "id": "5e55c793",
   "metadata": {},
   "outputs": [],
   "source": [
    "def diff_in_list_len():\n",
    "  random_num_list = [random.randint(0,100) for x in range(0,50)]\n",
    "  div_by_3_list = [i for i in random_num_list if i%3==0]\n",
    "  diff_in_length = len(random_num_list) - len(div_by_3_list)\n",
    "  return diff_in_length\n",
    "  "
   ]
  },
  {
   "cell_type": "code",
   "execution_count": 13,
   "id": "39b379d0",
   "metadata": {},
   "outputs": [
    {
     "data": {
      "text/plain": [
       "[33, 34, 27, 36, 36, 31, 32, 36, 31, 34]"
      ]
     },
     "execution_count": 13,
     "metadata": {},
     "output_type": "execute_result"
    }
   ],
   "source": [
    "list_of_differneces=[]\n",
    "for count in range(0,10):\n",
    "  list_of_differneces.append(diff_in_list_len())\n",
    "list_of_differneces"
   ]
  },
  {
   "cell_type": "code",
   "execution_count": 14,
   "id": "c0cb7320",
   "metadata": {},
   "outputs": [
    {
     "data": {
      "text/plain": [
       "33.0"
      ]
     },
     "execution_count": 14,
     "metadata": {},
     "output_type": "execute_result"
    }
   ],
   "source": [
    "mean = sum(list_of_differneces)/len(list_of_differneces)\n",
    "mean"
   ]
  },
  {
   "cell_type": "code",
   "execution_count": 21,
   "id": "c53cf12d",
   "metadata": {},
   "outputs": [],
   "source": [
    "Stanza = \"In the first place, the book (it may be barely necessary to remind the reader) was in its first shape written very early, somewhere about 1796, when Miss Austen was barely twenty-one; though it was revised and finished at Chawton some fifteen years later, and was not published till 1813, only four years before her death. I do not know whether, in{xi} this combination of the fresh and vigorous projection of youth, and the critical revision of middle life, there may be traced the distinct superiority in point of construction, which, as it seems to me, it possesses over all the others. The plot, though not elaborate, is almost regular enough for Fielding; hardly a character, hardly an incident could be retrenched without loss to the story. The elopement of Lydia and Wickham is not, like that of Crawford and Mrs. Rushworth, a coup de théâtre; it connects itself in the strictest way with the course of the story earlier, and brings about the denouement with complete propriety. All the minor passages—the loves of Jane and Bingley, the advent of Mr. Collins, the visit to Hunsford, the Derbyshire tour—fit in after the same unostentatious, but masterly fashion. There is no attempt at the hide-and-seek, in-and-out business, which in the transactions between Frank Churchill and Jane Fairfax contributes no doubt a good deal to the intrigue of Emma, but contributes it in a fashion which I do not think the best feature of that otherwise admirable book. Although Miss Austen always liked something of the misunderstanding kind, which afforded her opportunities for the display of the peculiar and incomparable talent to be noticed presently, she has been satisfied here with the perfectly natural occasions provided by the false account of Darcy’s conduct given by Wickham, and by the awkwardness (arising with equal naturalness) from the gradual transformation of Elizabeth’s own feelings from positive aversion to actual love. I do not know whether the all-grasping hand of the playwright has ever been laid upon Pride and Prejudice; and I dare say that,{xii} if it were, the situations would prove not startling or garish enough for the footlights, the character-scheme too subtle and delicate for pit and gallery. But if the attempt were made, it would certainly not be hampered by any of those loosenesses of construction, which, sometimes disguised by the conveniences of which the novelist can avail himself, appear at once on the stage.\""
   ]
  },
  {
   "cell_type": "code",
   "execution_count": 22,
   "id": "589cf487",
   "metadata": {},
   "outputs": [
    {
     "data": {
      "text/plain": [
       "'In the first place, the book (it may be barely necessary to remind the reader) was in its first shape written very early, somewhere about 1796, when Miss Austen was barely twenty-one; though it was revised and finished at Chawton some fifteen years later, and was not published till 1813, only four years before her death. I do not know whether, in{xi} this combination of the fresh and vigorous projection of youth, and the critical revision of middle life, there may be traced the distinct superiority in point of construction, which, as it seems to me, it possesses over all the others. The plot, though not elaborate, is almost regular enough for Fielding; hardly a character, hardly an incident could be retrenched without loss to the story. The elopement of Lydia and Wickham is not, like that of Crawford and Mrs. Rushworth, a coup de théâtre; it connects itself in the strictest way with the course of the story earlier, and brings about the denouement with complete propriety. All the minor passages—the loves of Jane and Bingley, the advent of Mr. Collins, the visit to Hunsford, the Derbyshire tour—fit in after the same unostentatious, but masterly fashion. There is no attempt at the hide-and-seek, in-and-out business, which in the transactions between Frank Churchill and Jane Fairfax contributes no doubt a good deal to the intrigue of Emma, but contributes it in a fashion which I do not think the best feature of that otherwise admirable book. Although Miss Austen always liked something of the misunderstanding kind, which afforded her opportunities for the display of the peculiar and incomparable talent to be noticed presently, she has been satisfied here with the perfectly natural occasions provided by the false account of Darcy’s conduct given by Wickham, and by the awkwardness (arising with equal naturalness) from the gradual transformation of Elizabeth’s own feelings from positive aversion to actual love. I do not know whether the all-grasping hand of the playwright has ever been laid upon Pride and Prejudice; and I dare say that,{xii} if it were, the situations would prove not startling or garish enough for the footlights, the character-scheme too subtle and delicate for pit and gallery. But if the attempt were made, it would certainly not be hampered by any of those loosenesses of construction, which, sometimes disguised by the conveniences of which the novelist can avail himself, appear at once on the stage.'"
      ]
     },
     "execution_count": 22,
     "metadata": {},
     "output_type": "execute_result"
    }
   ],
   "source": [
    "Stanza = \"\".join(Stanza.splitlines())\n",
    "Stanza"
   ]
  },
  {
   "cell_type": "code",
   "execution_count": 23,
   "id": "6b207f85",
   "metadata": {},
   "outputs": [
    {
     "data": {
      "text/plain": [
       "'!\"#$%&\\'()*+,-./:;<=>?@[\\\\]^_`{|}~'"
      ]
     },
     "execution_count": 23,
     "metadata": {},
     "output_type": "execute_result"
    }
   ],
   "source": [
    "import string\n",
    "string.punctuation"
   ]
  },
  {
   "cell_type": "code",
   "execution_count": 24,
   "id": "598ce6e6",
   "metadata": {},
   "outputs": [
    {
     "data": {
      "text/plain": [
       "'In the first place the book it may be barely necessary to remind the reader was in its first shape written very early somewhere about 1796 when Miss Austen was barely twentyone though it was revised and finished at Chawton some fifteen years later and was not published till 1813 only four years before her death I do not know whether inxi this combination of the fresh and vigorous projection of youth and the critical revision of middle life there may be traced the distinct superiority in point of construction which as it seems to me it possesses over all the others The plot though not elaborate is almost regular enough for Fielding hardly a character hardly an incident could be retrenched without loss to the story The elopement of Lydia and Wickham is not like that of Crawford and Mrs Rushworth a coup de théâtre it connects itself in the strictest way with the course of the story earlier and brings about the denouement with complete propriety All the minor passages—the loves of Jane and Bingley the advent of Mr Collins the visit to Hunsford the Derbyshire tour—fit in after the same unostentatious but masterly fashion There is no attempt at the hideandseek inandout business which in the transactions between Frank Churchill and Jane Fairfax contributes no doubt a good deal to the intrigue of Emma but contributes it in a fashion which I do not think the best feature of that otherwise admirable book Although Miss Austen always liked something of the misunderstanding kind which afforded her opportunities for the display of the peculiar and incomparable talent to be noticed presently she has been satisfied here with the perfectly natural occasions provided by the false account of Darcy’s conduct given by Wickham and by the awkwardness arising with equal naturalness from the gradual transformation of Elizabeth’s own feelings from positive aversion to actual love I do not know whether the allgrasping hand of the playwright has ever been laid upon Pride and Prejudice and I dare say thatxii if it were the situations would prove not startling or garish enough for the footlights the characterscheme too subtle and delicate for pit and gallery But if the attempt were made it would certainly not be hampered by any of those loosenesses of construction which sometimes disguised by the conveniences of which the novelist can avail himself appear at once on the stage'"
      ]
     },
     "execution_count": 24,
     "metadata": {},
     "output_type": "execute_result"
    }
   ],
   "source": [
    "Stanza = Stanza.translate(str.maketrans({key:None for key in string.punctuation}))\n",
    "Stanza"
   ]
  },
  {
   "cell_type": "code",
   "execution_count": 25,
   "id": "7472fafc",
   "metadata": {},
   "outputs": [
    {
     "name": "stdout",
     "output_type": "stream",
     "text": [
      "1796 => 1\n",
      "1813 => 1\n",
      "All => 1\n",
      "Although => 1\n",
      "Austen => 2\n",
      "Bingley => 1\n",
      "But => 1\n",
      "Chawton => 1\n",
      "Churchill => 1\n",
      "Collins => 1\n",
      "Crawford => 1\n",
      "Darcy’s => 1\n",
      "Derbyshire => 1\n",
      "Elizabeth’s => 1\n",
      "Emma => 1\n",
      "Fairfax => 1\n",
      "Fielding => 1\n",
      "Frank => 1\n",
      "Hunsford => 1\n",
      "I => 4\n",
      "In => 1\n",
      "Jane => 2\n",
      "Lydia => 1\n",
      "Miss => 2\n",
      "Mr => 1\n",
      "Mrs => 1\n",
      "Prejudice => 1\n",
      "Pride => 1\n",
      "Rushworth => 1\n",
      "The => 2\n",
      "There => 1\n",
      "Wickham => 2\n",
      "a => 4\n",
      "about => 2\n",
      "account => 1\n",
      "actual => 1\n",
      "admirable => 1\n",
      "advent => 1\n",
      "afforded => 1\n",
      "after => 1\n",
      "all => 1\n",
      "allgrasping => 1\n",
      "almost => 1\n",
      "always => 1\n",
      "an => 1\n",
      "and => 15\n",
      "any => 1\n",
      "appear => 1\n",
      "arising => 1\n",
      "as => 1\n",
      "at => 3\n",
      "attempt => 2\n",
      "avail => 1\n",
      "aversion => 1\n",
      "awkwardness => 1\n",
      "barely => 2\n",
      "be => 5\n",
      "been => 2\n",
      "before => 1\n",
      "best => 1\n",
      "between => 1\n",
      "book => 2\n",
      "brings => 1\n",
      "business => 1\n",
      "but => 2\n",
      "by => 5\n",
      "can => 1\n",
      "certainly => 1\n",
      "character => 1\n",
      "characterscheme => 1\n",
      "combination => 1\n",
      "complete => 1\n",
      "conduct => 1\n",
      "connects => 1\n",
      "construction => 2\n",
      "contributes => 2\n",
      "conveniences => 1\n",
      "could => 1\n",
      "coup => 1\n",
      "course => 1\n",
      "critical => 1\n",
      "dare => 1\n",
      "de => 1\n",
      "deal => 1\n",
      "death => 1\n",
      "delicate => 1\n",
      "denouement => 1\n",
      "disguised => 1\n",
      "display => 1\n",
      "distinct => 1\n",
      "do => 3\n",
      "doubt => 1\n",
      "earlier => 1\n",
      "early => 1\n",
      "elaborate => 1\n",
      "elopement => 1\n",
      "enough => 2\n",
      "equal => 1\n",
      "ever => 1\n",
      "false => 1\n",
      "fashion => 2\n",
      "feature => 1\n",
      "feelings => 1\n",
      "fifteen => 1\n",
      "finished => 1\n",
      "first => 2\n",
      "footlights => 1\n",
      "for => 4\n",
      "four => 1\n",
      "fresh => 1\n",
      "from => 2\n",
      "gallery => 1\n",
      "garish => 1\n",
      "given => 1\n",
      "good => 1\n",
      "gradual => 1\n",
      "hampered => 1\n",
      "hand => 1\n",
      "hardly => 2\n",
      "has => 2\n",
      "her => 2\n",
      "here => 1\n",
      "hideandseek => 1\n",
      "himself => 1\n",
      "if => 2\n",
      "in => 6\n",
      "inandout => 1\n",
      "incident => 1\n",
      "incomparable => 1\n",
      "intrigue => 1\n",
      "inxi => 1\n",
      "is => 3\n",
      "it => 8\n",
      "its => 1\n",
      "itself => 1\n",
      "kind => 1\n",
      "know => 2\n",
      "laid => 1\n",
      "later => 1\n",
      "life => 1\n",
      "like => 1\n",
      "liked => 1\n",
      "loosenesses => 1\n",
      "loss => 1\n",
      "love => 1\n",
      "loves => 1\n",
      "made => 1\n",
      "masterly => 1\n",
      "may => 2\n",
      "me => 1\n",
      "middle => 1\n",
      "minor => 1\n",
      "misunderstanding => 1\n",
      "natural => 1\n",
      "naturalness => 1\n",
      "necessary => 1\n",
      "no => 2\n",
      "not => 8\n",
      "noticed => 1\n",
      "novelist => 1\n",
      "occasions => 1\n",
      "of => 19\n",
      "on => 1\n",
      "once => 1\n",
      "only => 1\n",
      "opportunities => 1\n",
      "or => 1\n",
      "others => 1\n",
      "otherwise => 1\n",
      "over => 1\n",
      "own => 1\n",
      "passages—the => 1\n",
      "peculiar => 1\n",
      "perfectly => 1\n",
      "pit => 1\n",
      "place => 1\n",
      "playwright => 1\n",
      "plot => 1\n",
      "point => 1\n",
      "positive => 1\n",
      "possesses => 1\n",
      "presently => 1\n",
      "projection => 1\n",
      "propriety => 1\n",
      "prove => 1\n",
      "provided => 1\n",
      "published => 1\n",
      "reader => 1\n",
      "regular => 1\n",
      "remind => 1\n",
      "retrenched => 1\n",
      "revised => 1\n",
      "revision => 1\n",
      "same => 1\n",
      "satisfied => 1\n",
      "say => 1\n",
      "seems => 1\n",
      "shape => 1\n",
      "she => 1\n",
      "situations => 1\n",
      "some => 1\n",
      "something => 1\n",
      "sometimes => 1\n",
      "somewhere => 1\n",
      "stage => 1\n",
      "startling => 1\n",
      "story => 2\n",
      "strictest => 1\n",
      "subtle => 1\n",
      "superiority => 1\n",
      "talent => 1\n",
      "that => 2\n",
      "thatxii => 1\n",
      "the => 37\n",
      "there => 1\n",
      "think => 1\n",
      "this => 1\n",
      "those => 1\n",
      "though => 2\n",
      "théâtre => 1\n",
      "till => 1\n",
      "to => 7\n",
      "too => 1\n",
      "tour—fit => 1\n",
      "traced => 1\n",
      "transactions => 1\n",
      "transformation => 1\n",
      "twentyone => 1\n",
      "unostentatious => 1\n",
      "upon => 1\n",
      "very => 1\n",
      "vigorous => 1\n",
      "visit => 1\n",
      "was => 4\n",
      "way => 1\n",
      "were => 2\n",
      "when => 1\n",
      "whether => 2\n",
      "which => 6\n",
      "with => 4\n",
      "without => 1\n",
      "would => 2\n",
      "written => 1\n",
      "years => 2\n",
      "youth => 1\n"
     ]
    }
   ],
   "source": [
    "import collections\n",
    "wordCount = collections.Counter(Stanza.split())\n",
    "for m,s in sorted(wordCount.items()):\n",
    "  print(f'{m} => {s}')"
   ]
  },
  {
   "cell_type": "code",
   "execution_count": 26,
   "id": "3edf37f1",
   "metadata": {},
   "outputs": [
    {
     "name": "stdout",
     "output_type": "stream",
     "text": [
      "1796 => 1\n",
      "1813 => 1\n",
      "a => 4\n",
      "about => 2\n",
      "account => 1\n",
      "actual => 1\n",
      "admirable => 1\n",
      "advent => 1\n",
      "afforded => 1\n",
      "after => 1\n",
      "all => 2\n",
      "allgrasping => 1\n",
      "almost => 1\n",
      "although => 1\n",
      "always => 1\n",
      "an => 1\n",
      "and => 15\n",
      "any => 1\n",
      "appear => 1\n",
      "arising => 1\n",
      "as => 1\n",
      "at => 3\n",
      "attempt => 2\n",
      "austen => 2\n",
      "avail => 1\n",
      "aversion => 1\n",
      "awkwardness => 1\n",
      "barely => 2\n",
      "be => 5\n",
      "been => 2\n",
      "before => 1\n",
      "best => 1\n",
      "between => 1\n",
      "bingley => 1\n",
      "book => 2\n",
      "brings => 1\n",
      "business => 1\n",
      "but => 3\n",
      "by => 5\n",
      "can => 1\n",
      "certainly => 1\n",
      "character => 1\n",
      "characterscheme => 1\n",
      "chawton => 1\n",
      "churchill => 1\n",
      "collins => 1\n",
      "combination => 1\n",
      "complete => 1\n",
      "conduct => 1\n",
      "connects => 1\n",
      "construction => 2\n",
      "contributes => 2\n",
      "conveniences => 1\n",
      "could => 1\n",
      "coup => 1\n",
      "course => 1\n",
      "crawford => 1\n",
      "critical => 1\n",
      "darcy’s => 1\n",
      "dare => 1\n",
      "de => 1\n",
      "deal => 1\n",
      "death => 1\n",
      "delicate => 1\n",
      "denouement => 1\n",
      "derbyshire => 1\n",
      "disguised => 1\n",
      "display => 1\n",
      "distinct => 1\n",
      "do => 3\n",
      "doubt => 1\n",
      "earlier => 1\n",
      "early => 1\n",
      "elaborate => 1\n",
      "elizabeth’s => 1\n",
      "elopement => 1\n",
      "emma => 1\n",
      "enough => 2\n",
      "equal => 1\n",
      "ever => 1\n",
      "fairfax => 1\n",
      "false => 1\n",
      "fashion => 2\n",
      "feature => 1\n",
      "feelings => 1\n",
      "fielding => 1\n",
      "fifteen => 1\n",
      "finished => 1\n",
      "first => 2\n",
      "footlights => 1\n",
      "for => 4\n",
      "four => 1\n",
      "frank => 1\n",
      "fresh => 1\n",
      "from => 2\n",
      "gallery => 1\n",
      "garish => 1\n",
      "given => 1\n",
      "good => 1\n",
      "gradual => 1\n",
      "hampered => 1\n",
      "hand => 1\n",
      "hardly => 2\n",
      "has => 2\n",
      "her => 2\n",
      "here => 1\n",
      "hideandseek => 1\n",
      "himself => 1\n",
      "hunsford => 1\n",
      "i => 4\n",
      "if => 2\n",
      "in => 7\n",
      "inandout => 1\n",
      "incident => 1\n",
      "incomparable => 1\n",
      "intrigue => 1\n",
      "inxi => 1\n",
      "is => 3\n",
      "it => 8\n",
      "its => 1\n",
      "itself => 1\n",
      "jane => 2\n",
      "kind => 1\n",
      "know => 2\n",
      "laid => 1\n",
      "later => 1\n",
      "life => 1\n",
      "like => 1\n",
      "liked => 1\n",
      "loosenesses => 1\n",
      "loss => 1\n",
      "love => 1\n",
      "loves => 1\n",
      "lydia => 1\n",
      "made => 1\n",
      "masterly => 1\n",
      "may => 2\n",
      "me => 1\n",
      "middle => 1\n",
      "minor => 1\n",
      "miss => 2\n",
      "misunderstanding => 1\n",
      "mr => 1\n",
      "mrs => 1\n",
      "natural => 1\n",
      "naturalness => 1\n",
      "necessary => 1\n",
      "no => 2\n",
      "not => 8\n",
      "noticed => 1\n",
      "novelist => 1\n",
      "occasions => 1\n",
      "of => 19\n",
      "on => 1\n",
      "once => 1\n",
      "only => 1\n",
      "opportunities => 1\n",
      "or => 1\n",
      "others => 1\n",
      "otherwise => 1\n",
      "over => 1\n",
      "own => 1\n",
      "passages—the => 1\n",
      "peculiar => 1\n",
      "perfectly => 1\n",
      "pit => 1\n",
      "place => 1\n",
      "playwright => 1\n",
      "plot => 1\n",
      "point => 1\n",
      "positive => 1\n",
      "possesses => 1\n",
      "prejudice => 1\n",
      "presently => 1\n",
      "pride => 1\n",
      "projection => 1\n",
      "propriety => 1\n",
      "prove => 1\n",
      "provided => 1\n",
      "published => 1\n",
      "reader => 1\n",
      "regular => 1\n",
      "remind => 1\n",
      "retrenched => 1\n",
      "revised => 1\n",
      "revision => 1\n",
      "rushworth => 1\n",
      "same => 1\n",
      "satisfied => 1\n",
      "say => 1\n",
      "seems => 1\n",
      "shape => 1\n",
      "she => 1\n",
      "situations => 1\n",
      "some => 1\n",
      "something => 1\n",
      "sometimes => 1\n",
      "somewhere => 1\n",
      "stage => 1\n",
      "startling => 1\n",
      "story => 2\n",
      "strictest => 1\n",
      "subtle => 1\n",
      "superiority => 1\n",
      "talent => 1\n",
      "that => 2\n",
      "thatxii => 1\n",
      "the => 39\n",
      "there => 2\n",
      "think => 1\n",
      "this => 1\n",
      "those => 1\n",
      "though => 2\n",
      "théâtre => 1\n",
      "till => 1\n",
      "to => 7\n",
      "too => 1\n",
      "tour—fit => 1\n",
      "traced => 1\n",
      "transactions => 1\n",
      "transformation => 1\n",
      "twentyone => 1\n",
      "unostentatious => 1\n",
      "upon => 1\n",
      "very => 1\n",
      "vigorous => 1\n",
      "visit => 1\n",
      "was => 4\n",
      "way => 1\n",
      "were => 2\n",
      "when => 1\n",
      "whether => 2\n",
      "which => 6\n",
      "wickham => 2\n",
      "with => 4\n",
      "without => 1\n",
      "would => 2\n",
      "written => 1\n",
      "years => 2\n",
      "youth => 1\n"
     ]
    }
   ],
   "source": [
    "case_insensitive_wordcount = collections.Counter(Stanza.lower().split())\n",
    "for m,s in sorted(case_insensitive_wordcount.items()):\n",
    "  print(f'{m} => {s}')"
   ]
  },
  {
   "cell_type": "code",
   "execution_count": 1,
   "id": "676c0682",
   "metadata": {},
   "outputs": [],
   "source": [
    "from itertools import permutations, dropwhile"
   ]
  },
  {
   "cell_type": "code",
   "execution_count": 2,
   "id": "8656ec45",
   "metadata": {},
   "outputs": [
    {
     "data": {
      "text/plain": [
       "<itertools.permutations at 0x16d888dbe00>"
      ]
     },
     "execution_count": 2,
     "metadata": {},
     "output_type": "execute_result"
    }
   ],
   "source": [
    "permulation_vals = permutations(range(3))\n",
    "permulation_vals"
   ]
  },
  {
   "cell_type": "code",
   "execution_count": 3,
   "id": "593d546d",
   "metadata": {},
   "outputs": [
    {
     "name": "stdout",
     "output_type": "stream",
     "text": [
      "(0, 1, 2)\n",
      "(0, 2, 1)\n",
      "(1, 0, 2)\n",
      "(1, 2, 0)\n",
      "(2, 0, 1)\n",
      "(2, 1, 0)\n"
     ]
    }
   ],
   "source": [
    "for number_tuple in permutations(range(3)):\n",
    "    print(f'{number_tuple}')\n",
    "    assert isinstance(number_tuple, tuple)"
   ]
  },
  {
   "cell_type": "code",
   "execution_count": 4,
   "id": "6db3313c",
   "metadata": {},
   "outputs": [
    {
     "name": "stdout",
     "output_type": "stream",
     "text": [
      "(0, 1, 2)\n",
      "(0, 2, 1)\n",
      "(1, 0, 2)\n",
      "(1, 2, 0)\n",
      "(2, 0, 1)\n",
      "(2, 1, 0)\n"
     ]
    }
   ],
   "source": [
    "newline = \"\\n\"\n",
    "print(f'{newline.join(f\"{val}\" for val in permutations(range(3)))}')"
   ]
  },
  {
   "cell_type": "code",
   "execution_count": 5,
   "id": "1e3018fd",
   "metadata": {},
   "outputs": [
    {
     "name": "stdout",
     "output_type": "stream",
     "text": [
      "[1, 2]\n",
      "[2, 1]\n",
      "[1, 0, 2]\n",
      "[1, 2, 0]\n",
      "[2, 0, 1]\n",
      "[2, 1, 0]\n"
     ]
    }
   ],
   "source": [
    "for number_tuple in permutations(range(3)):\n",
    "    print(list(dropwhile(lambda x: x <= 0, number_tuple)))"
   ]
  },
  {
   "cell_type": "code",
   "execution_count": 6,
   "id": "087a213c",
   "metadata": {},
   "outputs": [],
   "source": [
    "def convert(list):\n",
    "    res = sum(d * 10**i for i, d in enumerate(list[::-1]))   \n",
    "    return (res)\n",
    "     "
   ]
  },
  {
   "cell_type": "code",
   "execution_count": 7,
   "id": "ee78c0f6",
   "metadata": {},
   "outputs": [
    {
     "name": "stdout",
     "output_type": "stream",
     "text": [
      "12\n",
      "21\n",
      "102\n",
      "120\n",
      "201\n",
      "210\n"
     ]
    }
   ],
   "source": [
    "for number_tuple in permutations(range(3)):\n",
    "    print(convert(list(dropwhile(lambda x: x <= 0, number_tuple))))"
   ]
  },
  {
   "cell_type": "code",
   "execution_count": 8,
   "id": "e8771a4a",
   "metadata": {},
   "outputs": [
    {
     "name": "stdout",
     "output_type": "stream",
     "text": [
      "{'Year': '2021', 'Industry_aggregation_NZSIOC': 'Level 1', 'Industry_code_NZSIOC': '99999', 'Industry_name_NZSIOC': 'All industries', 'Units': 'Dollars (millions)', 'Variable_code': 'H01', 'Variable_name': 'Total income', 'Variable_category': 'Financial performance', 'Value': '\"757', 'Industry_code_ANZSIC06': '504\"', None: ' and S9603)\"'}\n",
      "{'Year': '2021', 'Industry_aggregation_NZSIOC': 'Level 1', 'Industry_code_NZSIOC': '99999', 'Industry_name_NZSIOC': 'All industries', 'Units': 'Dollars (millions)', 'Variable_code': 'H04', 'Variable_name': '\"Sales', 'Variable_category': ' government funding', 'Value': ' grants and subsidies\"', 'Industry_code_ANZSIC06': 'Financial performance', None: ' and S9603)\"'}\n",
      "{'Year': '2021', 'Industry_aggregation_NZSIOC': 'Level 1', 'Industry_code_NZSIOC': '99999', 'Industry_name_NZSIOC': 'All industries', 'Units': 'Dollars (millions)', 'Variable_code': 'H05', 'Variable_name': '\"Interest', 'Variable_category': ' dividends and donations\"', 'Value': 'Financial performance', 'Industry_code_ANZSIC06': '\"49', None: ' and S9603)\"'}\n",
      "{'Year': '2021', 'Industry_aggregation_NZSIOC': 'Level 1', 'Industry_code_NZSIOC': '99999', 'Industry_name_NZSIOC': 'All industries', 'Units': 'Dollars (millions)', 'Variable_code': 'H07', 'Variable_name': 'Non-operating income', 'Variable_category': 'Financial performance', 'Value': '\"33', 'Industry_code_ANZSIC06': '020\"', None: ' and S9603)\"'}\n",
      "{'Year': '2021', 'Industry_aggregation_NZSIOC': 'Level 1', 'Industry_code_NZSIOC': '99999', 'Industry_name_NZSIOC': 'All industries', 'Units': 'Dollars (millions)', 'Variable_code': 'H08', 'Variable_name': 'Total expenditure', 'Variable_category': 'Financial performance', 'Value': '\"654', 'Industry_code_ANZSIC06': '404\"', None: ' and S9603)\"'}\n",
      "{'Year': '2021', 'Industry_aggregation_NZSIOC': 'Level 1', 'Industry_code_NZSIOC': '99999', 'Industry_name_NZSIOC': 'All industries', 'Units': 'Dollars (millions)', 'Variable_code': 'H09', 'Variable_name': 'Interest and donations', 'Variable_category': 'Financial performance', 'Value': '\"26', 'Industry_code_ANZSIC06': '138\"', None: ' and S9603)\"'}\n",
      "{'Year': '2021', 'Industry_aggregation_NZSIOC': 'Level 1', 'Industry_code_NZSIOC': '99999', 'Industry_name_NZSIOC': 'All industries', 'Units': 'Dollars (millions)', 'Variable_code': 'H10', 'Variable_name': 'Indirect taxes', 'Variable_category': 'Financial performance', 'Value': '\"6', 'Industry_code_ANZSIC06': '991\"', None: ' and S9603)\"'}\n",
      "{'Year': '2021', 'Industry_aggregation_NZSIOC': 'Level 1', 'Industry_code_NZSIOC': '99999', 'Industry_name_NZSIOC': 'All industries', 'Units': 'Dollars (millions)', 'Variable_code': 'H11', 'Variable_name': 'Depreciation', 'Variable_category': 'Financial performance', 'Value': '\"27', 'Industry_code_ANZSIC06': '801\"', None: ' and S9603)\"'}\n",
      "{'Year': '2021', 'Industry_aggregation_NZSIOC': 'Level 1', 'Industry_code_NZSIOC': '99999', 'Industry_name_NZSIOC': 'All industries', 'Units': 'Dollars (millions)', 'Variable_code': 'H12', 'Variable_name': 'Salaries and wages paid', 'Variable_category': 'Financial performance', 'Value': '\"123', 'Industry_code_ANZSIC06': '620\"', None: ' and S9603)\"'}\n",
      "{'Year': '2021', 'Industry_aggregation_NZSIOC': 'Level 1', 'Industry_code_NZSIOC': '99999', 'Industry_name_NZSIOC': 'All industries', 'Units': 'Dollars (millions)', 'Variable_code': 'H13', 'Variable_name': 'Redundancy and severance', 'Variable_category': 'Financial performance', 'Value': '275', 'Industry_code_ANZSIC06': '\"ANZSIC06 divisions A-S (excluding classes K6330', None: ' and S9603)\"'}\n",
      "{'Year': '2021', 'Industry_aggregation_NZSIOC': 'Level 1', 'Industry_code_NZSIOC': '99999', 'Industry_name_NZSIOC': 'All industries', 'Units': 'Dollars (millions)', 'Variable_code': 'H14', 'Variable_name': 'Salaries and wages to self employed commission agents', 'Variable_category': 'Financial performance', 'Value': '\"2', 'Industry_code_ANZSIC06': '085\"', None: ' and S9603)\"'}\n",
      "{'Year': '2021', 'Industry_aggregation_NZSIOC': 'Level 1', 'Industry_code_NZSIOC': '99999', 'Industry_name_NZSIOC': 'All industries', 'Units': 'Dollars (millions)', 'Variable_code': 'H19', 'Variable_name': 'Purchases and other operating expenses', 'Variable_category': 'Financial performance', 'Value': '\"452', 'Industry_code_ANZSIC06': '963\"', None: ' and S9603)\"'}\n"
     ]
    }
   ],
   "source": [
    "from itertools import zip_longest\n",
    "\n",
    "def return_dict_from_csv_line(header, line):\n",
    "    # Zip them\n",
    "    zipped_line = zip_longest(header, line, fillvalue=None)\n",
    "    # Use dict comprehension to generate the final dict\n",
    "    ret_dict = {kv[0]: kv[1] for kv in zipped_line}\n",
    "    return ret_dict\n",
    "\n",
    "with open(\"Annual finance.csv\", \"r\") as fd:\n",
    "    first_line = fd.readline()\n",
    "    header = first_line.replace(\"\\n\", \"\").split(\",\")\n",
    "    for i, line in enumerate(fd):\n",
    "        # Here we loop over the first 10 lines in order to not to make the output too big\n",
    "        line = line.replace(\"\\n\", \"\").split(\",\")\n",
    "        d = return_dict_from_csv_line(header, line)\n",
    "        print(d)\n",
    "        if i > 10:\n",
    "            break"
   ]
  },
  {
   "cell_type": "code",
   "execution_count": null,
   "id": "8ee7c06a",
   "metadata": {},
   "outputs": [],
   "source": []
  }
 ],
 "metadata": {
  "kernelspec": {
   "display_name": "Python 3 (ipykernel)",
   "language": "python",
   "name": "python3"
  },
  "language_info": {
   "codemirror_mode": {
    "name": "ipython",
    "version": 3
   },
   "file_extension": ".py",
   "mimetype": "text/x-python",
   "name": "python",
   "nbconvert_exporter": "python",
   "pygments_lexer": "ipython3",
   "version": "3.9.13"
  }
 },
 "nbformat": 4,
 "nbformat_minor": 5
}
